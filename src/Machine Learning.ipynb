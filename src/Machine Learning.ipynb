{
 "cells": [
  {
   "cell_type": "markdown",
   "metadata": {},
   "source": [
    "# Machine Learning\n",
    "\n",
    "---"
   ]
  },
  {
   "cell_type": "code",
   "execution_count": 125,
   "metadata": {},
   "outputs": [],
   "source": [
    "import pandas as pd\n",
    "import numpy as np\n",
    "import matplotlib.pyplot as plt\n",
    "from sklearn.tree import DecisionTreeClassifier, export_text, plot_tree\n",
    "from sklearn.metrics import mean_absolute_error, r2_score\n",
    "from sklearn.metrics import root_mean_squared_error\n",
    "from sklearn.metrics import accuracy_score\n",
    "\n",
    "import warnings\n",
    "\n",
    "def ignore_warn(*args, **kwargs):\n",
    "    pass\n",
    "warnings.warn = ignore_warn # ignore annoying warning (from sklearn and seaborn)"
   ]
  },
  {
   "cell_type": "markdown",
   "metadata": {},
   "source": [
    "## Step 1: Decision making: Which is the best dataset\n",
    "\n"
   ]
  },
  {
   "cell_type": "code",
   "execution_count": 126,
   "metadata": {},
   "outputs": [],
   "source": [
    "# Train data frames\n",
    "X_train_with_outliers_sel = pd.read_csv('../data/processed/X_train_with_outliers_sel.csv')\n",
    "X_train_without_outliers_sel = pd.read_csv('../data/processed/X_train_without_outliers_sel.csv')\n",
    "X_train_with_outliers_norm_sel = pd.read_csv('../data/processed/X_train_with_outliers_norm_sel.csv')\n",
    "X_train_without_outliers_norm_sel = pd.read_csv('../data/processed/X_train_without_outliers_norm_sel.csv')\n",
    "X_train_with_outliers_minmax_sel = pd.read_csv('../data/processed/X_train_with_outliers_minmax_sel.csv')\n",
    "X_train_without_outliers_minmax_sel = pd.read_csv('../data/processed/X_train_without_outliers_minmax_sel.csv')\n",
    "y_train = pd.read_csv('../data/processed/y_train.csv')\n",
    "\n",
    "# Test data frames\n",
    "X_test_with_outliers_sel = pd.read_csv('../data/processed/X_test_with_outliers_sel.csv')\n",
    "X_test_without_outliers_sel = pd.read_csv('../data/processed/X_test_without_outliers_sel.csv')\n",
    "X_test_with_outliers_norm_sel = pd.read_csv('../data/processed/X_test_with_outliers_norm_sel.csv')\n",
    "X_test_without_outliers_norm_sel = pd.read_csv('../data/processed/X_test_without_outliers_norm_sel.csv')\n",
    "X_test_with_outliers_minmax_sel = pd.read_csv('../data/processed/X_test_with_outliers_minmax_sel.csv')\n",
    "X_test_without_outliers_minmax_sel = pd.read_csv('../data/processed/X_test_without_outliers_minmax_sel.csv')\n",
    "y_test = pd.read_csv('../data/processed/y_test.csv')"
   ]
  },
  {
   "cell_type": "code",
   "execution_count": 127,
   "metadata": {},
   "outputs": [
    {
     "name": "stdout",
     "output_type": "stream",
     "text": [
      "X_train_with_outliers_sel shape: (614, 8) \n",
      "X_train_without_outliers_sel shape: (614, 8) \n",
      "X_train_with_outliers_norm_sel shape: (614, 8) \n",
      "X_train_without_outliers_norm_sel shape: (614, 8) \n",
      "X_train_with_outliers_minmax_sel shape: (614, 8) \n",
      "X_train_without_outliers_minmax_sel shape: (614, 8)\n",
      " \n",
      "X_test_with_outliers_sel shape: (154, 8) \n",
      "X_test_without_outliers_sel shape: (154, 8) \n",
      "X_test_with_outliers_norm_sel shape: (154, 8) \n",
      "X_test_without_outliers_norm_sel shape: (154, 8) \n",
      "X_test_with_outliers_minmax_sel shape: (154, 8) \n",
      "X_test_without_outliers_minmax_sel shape: (154, 8)\n",
      " \n"
     ]
    }
   ],
   "source": [
    "train_dicts = {\n",
    "  \"X_train_with_outliers_sel\": X_train_with_outliers_sel,\n",
    "  \"X_train_without_outliers_sel\": X_train_without_outliers_sel,\n",
    "  \"X_train_with_outliers_norm_sel\": X_train_with_outliers_norm_sel,\n",
    "  \"X_train_without_outliers_norm_sel\": X_train_without_outliers_norm_sel,\n",
    "  \"X_train_with_outliers_minmax_sel\": X_train_with_outliers_minmax_sel,\n",
    "  \"X_train_without_outliers_minmax_sel\": X_train_without_outliers_minmax_sel\n",
    "}\n",
    "\n",
    "test_dicts = {\n",
    "  \"X_test_with_outliers_sel\": X_test_with_outliers_sel,\n",
    "  \"X_test_without_outliers_sel\": X_test_without_outliers_sel,\n",
    "  \"X_test_with_outliers_norm_sel\": X_test_with_outliers_norm_sel,\n",
    "  \"X_test_without_outliers_norm_sel\": X_test_without_outliers_norm_sel,\n",
    "  \"X_test_with_outliers_minmax_sel\": X_test_with_outliers_minmax_sel,\n",
    "  \"X_test_without_outliers_minmax_sel\": X_test_without_outliers_minmax_sel\n",
    "}\n",
    "\n",
    "train_dfs = [\n",
    "  X_train_with_outliers_sel,\n",
    "  X_train_without_outliers_sel,\n",
    "  X_train_with_outliers_norm_sel,\n",
    "  X_train_without_outliers_norm_sel,\n",
    "  X_train_with_outliers_minmax_sel,\n",
    "  X_train_without_outliers_minmax_sel\n",
    "]\n",
    "test_dfs = [\n",
    "  X_test_with_outliers_sel,\n",
    "  X_test_without_outliers_sel,\n",
    "  X_test_with_outliers_norm_sel,\n",
    "  X_test_without_outliers_norm_sel,\n",
    "  X_test_with_outliers_minmax_sel,\n",
    "  X_test_without_outliers_minmax_sel\n",
    "]\n",
    "\n",
    "print(f\"X_train_with_outliers_sel shape: {X_train_with_outliers_sel.shape} \")\n",
    "print(f\"X_train_without_outliers_sel shape: {X_train_without_outliers_sel.shape} \")\n",
    "print(f\"X_train_with_outliers_norm_sel shape: {X_train_with_outliers_norm_sel.shape} \")\n",
    "print(f\"X_train_without_outliers_norm_sel shape: {X_train_without_outliers_norm_sel.shape} \")\n",
    "print(f\"X_train_with_outliers_minmax_sel shape: {X_train_with_outliers_minmax_sel.shape} \")\n",
    "print(f\"X_train_without_outliers_minmax_sel shape: {X_train_without_outliers_minmax_sel.shape}\\n \")\n",
    "\n",
    "print(f\"X_test_with_outliers_sel shape: {X_test_with_outliers_sel.shape} \")\n",
    "print(f\"X_test_without_outliers_sel shape: {X_test_without_outliers_sel.shape} \")\n",
    "print(f\"X_test_with_outliers_norm_sel shape: {X_test_with_outliers_norm_sel.shape} \")\n",
    "print(f\"X_test_without_outliers_norm_sel shape: {X_test_without_outliers_norm_sel.shape} \")\n",
    "print(f\"X_test_with_outliers_minmax_sel shape: {X_test_with_outliers_minmax_sel.shape} \")\n",
    "print(f\"X_test_without_outliers_minmax_sel shape: {X_test_without_outliers_minmax_sel.shape}\\n \")"
   ]
  },
  {
   "cell_type": "code",
   "execution_count": 128,
   "metadata": {},
   "outputs": [
    {
     "data": {
      "text/plain": [
       "[{'index': 0,\n",
       "  'train_df': 'X_train_with_outliers_sel',\n",
       "  'Accuracy_score': 0.7467532467532467},\n",
       " {'index': 2,\n",
       "  'train_df': 'X_train_with_outliers_norm_sel',\n",
       "  'Accuracy_score': 0.7467532467532467},\n",
       " {'index': 4,\n",
       "  'train_df': 'X_train_with_outliers_minmax_sel',\n",
       "  'Accuracy_score': 0.7467532467532467},\n",
       " {'index': 1,\n",
       "  'train_df': 'X_train_without_outliers_sel',\n",
       "  'Accuracy_score': 0.7402597402597403},\n",
       " {'index': 3,\n",
       "  'train_df': 'X_train_without_outliers_norm_sel',\n",
       "  'Accuracy_score': 0.7402597402597403},\n",
       " {'index': 5,\n",
       "  'train_df': 'X_train_without_outliers_minmax_sel',\n",
       "  'Accuracy_score': 0.7402597402597403}]"
      ]
     },
     "execution_count": 128,
     "metadata": {},
     "output_type": "execute_result"
    }
   ],
   "source": [
    "results = []\n",
    "\n",
    "for df_index in range(len(train_dfs)):\n",
    "  model = DecisionTreeClassifier(random_state = 42) # Model initialization and training\n",
    "\n",
    "  train_df = train_dfs[df_index]\n",
    "  model.fit(train_df, y_train)\n",
    "\n",
    "  '''y_train_pred = model.predict(train_df)'''\n",
    "  y_test_pred = model.predict(test_dfs[df_index]) # Model prediction\n",
    "\n",
    "  results.append(\n",
    "    {\n",
    "        \"index\": df_index,\n",
    "        \"train_df\": list(train_dicts.keys())[df_index],\n",
    "        \"Accuracy_score\": accuracy_score(y_test, y_test_pred)\n",
    "  })\n",
    "\n",
    "resultados = sorted(results, key = lambda x: x[\"Accuracy_score\"], reverse = True)\n",
    "resultados"
   ]
  },
  {
   "cell_type": "code",
   "execution_count": 129,
   "metadata": {},
   "outputs": [
    {
     "name": "stdout",
     "output_type": "stream",
     "text": [
      "The best train dataframe is |X_train_with_outliers_sel|.\n",
      "=======================================================      \n",
      "| Accuracy score: 0.7467532467532467   |\n",
      "========================================\n"
     ]
    }
   ],
   "source": [
    "print (f\"The best train dataframe is |{resultados[0]['train_df']}|.\\n\\\n",
    "=======================================================      \\n\\\n",
    "| Accuracy score: {resultados[0]['Accuracy_score']}   |\\n\\\n",
    "========================================\")"
   ]
  },
  {
   "cell_type": "markdown",
   "metadata": {},
   "source": [
    "## Step 2: Model hyperparameters optimization\n",
    "\n",
    "- ### 2.1 Grid SearchCV"
   ]
  }
 ],
 "metadata": {
  "kernelspec": {
   "display_name": "base",
   "language": "python",
   "name": "python3"
  },
  "language_info": {
   "codemirror_mode": {
    "name": "ipython",
    "version": 3
   },
   "file_extension": ".py",
   "mimetype": "text/x-python",
   "name": "python",
   "nbconvert_exporter": "python",
   "pygments_lexer": "ipython3",
   "version": "3.12.4"
  }
 },
 "nbformat": 4,
 "nbformat_minor": 2
}
